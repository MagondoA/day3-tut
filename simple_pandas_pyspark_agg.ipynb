{
  "cells": [
    {
      "cell_type": "markdown",
      "metadata": {
        "id": "USPV7Fz0Jm5b"
      },
      "source": [
        "# Exploring Spark with Pandas\n"
      ]
    },
    {
      "cell_type": "markdown",
      "metadata": {
        "id": "WFPcrTl4Jm5f"
      },
      "source": [
        "Using pandas examples, convert the analysis to pyspark. This is useful if you discover your data grows too large for your tooling.\n",
        "\n",
        "The purpose of this notebook is to familiarise yourself you the pyspark API. You are welcome to use the R version of this if you wish. As long as you are able to obtain the correct results. We will be using python in this notebook as it is quite widely used through data science and the community is very large.\n",
        "\n"
      ]
    },
    {
      "cell_type": "markdown",
      "metadata": {
        "id": "BJ8227J4Jm5f"
      },
      "source": [
        "#### Firstly, let's get our spark session"
      ]
    },
    {
      "cell_type": "code",
      "source": [
        "#congigure the platfrom\n",
        "!lsb_release -a"
      ],
      "metadata": {
        "id": "rPjAHdKzKhmJ",
        "outputId": "bd532c50-87b2-4656-a084-ab2ad36ca3f4",
        "colab": {
          "base_uri": "https://localhost:8080/"
        }
      },
      "execution_count": 1,
      "outputs": [
        {
          "output_type": "stream",
          "name": "stdout",
          "text": [
            "No LSB modules are available.\n",
            "Distributor ID:\tUbuntu\n",
            "Description:\tUbuntu 18.04.6 LTS\n",
            "Release:\t18.04\n",
            "Codename:\tbionic\n"
          ]
        }
      ]
    },
    {
      "cell_type": "code",
      "source": [
        "!apt-get update"
      ],
      "metadata": {
        "id": "zeQOkQDCLB0Y",
        "outputId": "340afb29-e175-42f7-d75b-a5bf4f47aadd",
        "colab": {
          "base_uri": "https://localhost:8080/"
        }
      },
      "execution_count": 2,
      "outputs": [
        {
          "output_type": "stream",
          "name": "stdout",
          "text": [
            "\r0% [Working]\r            \rGet:1 http://security.ubuntu.com/ubuntu bionic-security InRelease [88.7 kB]\n",
            "\r0% [Connecting to archive.ubuntu.com (185.125.190.39)] [1 InRelease 14.2 kB/88.\r                                                                               \rGet:2 https://cloud.r-project.org/bin/linux/ubuntu bionic-cran40/ InRelease [3,626 B]\n",
            "\r0% [Connecting to archive.ubuntu.com (185.125.190.39)] [1 InRelease 22.9 kB/88.\r0% [Connecting to archive.ubuntu.com (185.125.190.39)] [1 InRelease 63.4 kB/88.\r0% [2 InRelease gpgv 3,626 B] [Connecting to archive.ubuntu.com (185.125.190.39\r0% [2 InRelease gpgv 3,626 B] [Connecting to archive.ubuntu.com (185.125.190.39\r                                                                               \rGet:3 http://ppa.launchpad.net/c2d4u.team/c2d4u4.0+/ubuntu bionic InRelease [15.9 kB]\n",
            "\r0% [2 InRelease gpgv 3,626 B] [Waiting for headers] [Waiting for headers] [3 In\r                                                                               \rHit:4 http://archive.ubuntu.com/ubuntu bionic InRelease\n",
            "\r0% [2 InRelease gpgv 3,626 B] [Waiting for headers] [3 InRelease 14.2 kB/15.9 k\r                                                                               \rIgn:5 https://developer.download.nvidia.com/compute/machine-learning/repos/ubuntu1804/x86_64  InRelease\n",
            "\r0% [2 InRelease gpgv 3,626 B] [Waiting for headers] [Waiting for headers] [3 In\r                                                                               \rGet:6 https://developer.download.nvidia.com/compute/cuda/repos/ubuntu1804/x86_64  InRelease [1,581 B]\n",
            "\r0% [2 InRelease gpgv 3,626 B] [Waiting for headers] [3 InRelease 14.2 kB/15.9 k\r                                                                               \r0% [2 InRelease gpgv 3,626 B] [Waiting for headers] [Waiting for headers]\r                                                                         \rHit:7 https://developer.download.nvidia.com/compute/machine-learning/repos/ubuntu1804/x86_64  Release\n",
            "Get:8 http://archive.ubuntu.com/ubuntu bionic-updates InRelease [88.7 kB]\n",
            "Get:9 https://cloud.r-project.org/bin/linux/ubuntu bionic-cran40/ Packages [90.7 kB]\n",
            "Hit:10 http://ppa.launchpad.net/cran/libgit2/ubuntu bionic InRelease\n",
            "Get:11 http://archive.ubuntu.com/ubuntu bionic-backports InRelease [74.6 kB]\n",
            "Get:12 http://ppa.launchpad.net/deadsnakes/ppa/ubuntu bionic InRelease [15.9 kB]\n",
            "Get:13 http://security.ubuntu.com/ubuntu bionic-security/universe amd64 Packages [1,533 kB]\n",
            "Get:14 http://security.ubuntu.com/ubuntu bionic-security/main amd64 Packages [2,937 kB]\n",
            "Get:15 http://security.ubuntu.com/ubuntu bionic-security/restricted amd64 Packages [1,100 kB]\n",
            "Get:16 http://ppa.launchpad.net/graphics-drivers/ppa/ubuntu bionic InRelease [21.3 kB]\n",
            "Get:17 https://developer.download.nvidia.com/compute/cuda/repos/ubuntu1804/x86_64  Packages [903 kB]\n",
            "Get:18 http://ppa.launchpad.net/c2d4u.team/c2d4u4.0+/ubuntu bionic/main Sources [2,095 kB]\n",
            "Get:20 http://archive.ubuntu.com/ubuntu bionic-updates/universe amd64 Packages [2,310 kB]\n",
            "Get:21 http://ppa.launchpad.net/c2d4u.team/c2d4u4.0+/ubuntu bionic/main amd64 Packages [1,073 kB]\n",
            "Get:22 http://archive.ubuntu.com/ubuntu bionic-updates/main amd64 Packages [3,369 kB]\n",
            "Get:23 http://archive.ubuntu.com/ubuntu bionic-updates/restricted amd64 Packages [1,141 kB]\n",
            "Get:24 http://ppa.launchpad.net/deadsnakes/ppa/ubuntu bionic/main amd64 Packages [45.3 kB]\n",
            "Get:25 http://ppa.launchpad.net/graphics-drivers/ppa/ubuntu bionic/main amd64 Packages [47.7 kB]\n",
            "Fetched 17.0 MB in 3s (5,101 kB/s)\n",
            "Reading package lists... Done\n"
          ]
        }
      ]
    },
    {
      "cell_type": "code",
      "source": [
        "# Install java\n",
        "!apt-get install openjdk-8-jdk-headless -qq > /dev/null"
      ],
      "metadata": {
        "id": "JMBNq2LGLIZl"
      },
      "execution_count": 3,
      "outputs": []
    },
    {
      "cell_type": "code",
      "source": [
        "# get spark \n",
        "VERSION='3.2.2'\n",
        "!wget https://dlcdn.apache.org/spark/spark-$VERSION/spark-$VERSION-bin-hadoop3.2.tgz"
      ],
      "metadata": {
        "id": "iXXLOksPLP9U",
        "outputId": "d64cb4ee-7190-419e-9adf-e70719925a92",
        "colab": {
          "base_uri": "https://localhost:8080/"
        }
      },
      "execution_count": 4,
      "outputs": [
        {
          "output_type": "stream",
          "name": "stdout",
          "text": [
            "--2022-08-15 15:44:09--  https://dlcdn.apache.org/spark/spark-3.2.2/spark-3.2.2-bin-hadoop3.2.tgz\n",
            "Resolving dlcdn.apache.org (dlcdn.apache.org)... 151.101.2.132, 2a04:4e42::644\n",
            "Connecting to dlcdn.apache.org (dlcdn.apache.org)|151.101.2.132|:443... connected.\n",
            "HTTP request sent, awaiting response... 200 OK\n",
            "Length: 301112604 (287M) [application/x-gzip]\n",
            "Saving to: ‘spark-3.2.2-bin-hadoop3.2.tgz’\n",
            "\n",
            "spark-3.2.2-bin-had 100%[===================>] 287.16M   255MB/s    in 1.1s    \n",
            "\n",
            "2022-08-15 15:44:10 (255 MB/s) - ‘spark-3.2.2-bin-hadoop3.2.tgz’ saved [301112604/301112604]\n",
            "\n"
          ]
        }
      ]
    },
    {
      "cell_type": "code",
      "source": [
        "# decompress spark\n",
        "!tar xf spark-$VERSION-bin-hadoop3.2.tgz\n",
        "\n",
        "# install python package to help with system paths\n",
        "!pip install -q findspark"
      ],
      "metadata": {
        "id": "b_nFVv_ILW_k"
      },
      "execution_count": 5,
      "outputs": []
    },
    {
      "cell_type": "code",
      "source": [
        "! ls -lht"
      ],
      "metadata": {
        "id": "s-fHzd-LLsES",
        "outputId": "59aacfa2-382c-4c40-de9d-fdad4811c4d1",
        "colab": {
          "base_uri": "https://localhost:8080/"
        }
      },
      "execution_count": 6,
      "outputs": [
        {
          "output_type": "stream",
          "name": "stdout",
          "text": [
            "total 288M\n",
            "drwxr-xr-x  1 root root 4.0K Aug  3 20:21 sample_data\n",
            "-rw-r--r--  1 root root 288M Jul 11 16:18 spark-3.2.2-bin-hadoop3.2.tgz\n",
            "drwxr-xr-x 13 1000 1000 4.0K Jul 11 16:01 spark-3.2.2-bin-hadoop3.2\n"
          ]
        }
      ]
    },
    {
      "cell_type": "code",
      "source": [
        "# Let Colab know where the java and spark folders are\n",
        "\n",
        "import os\n",
        "os.environ[\"JAVA_HOME\"] = \"/usr/lib/jvm/java-8-openjdk-amd64\"\n",
        "os.environ[\"SPARK_HOME\"] = f\"/content/spark-{VERSION}-bin-hadoop3.2\""
      ],
      "metadata": {
        "id": "urf3nhLWLxfC"
      },
      "execution_count": 7,
      "outputs": []
    },
    {
      "cell_type": "code",
      "source": [
        "# add pyspark to sys.path using findspark\n",
        "import findspark\n",
        "findspark.init()\n",
        "\n",
        "# get a spark session\n",
        "from pyspark.sql import SparkSession\n",
        "spark = SparkSession.builder.master(\"local[*]\").getOrCreate()"
      ],
      "metadata": {
        "id": "qHzR-taCL1oM"
      },
      "execution_count": 8,
      "outputs": []
    },
    {
      "cell_type": "code",
      "source": [
        "spark"
      ],
      "metadata": {
        "id": "SjZwoGnTMAOd",
        "outputId": "af5b21b8-996f-4b51-8d7e-484136a7cd4f",
        "colab": {
          "base_uri": "https://localhost:8080/",
          "height": 219
        }
      },
      "execution_count": 9,
      "outputs": [
        {
          "output_type": "execute_result",
          "data": {
            "text/plain": [
              "<pyspark.sql.session.SparkSession at 0x7f0cca5d8bd0>"
            ],
            "text/html": [
              "\n",
              "            <div>\n",
              "                <p><b>SparkSession - in-memory</b></p>\n",
              "                \n",
              "        <div>\n",
              "            <p><b>SparkContext</b></p>\n",
              "\n",
              "            <p><a href=\"http://940e9198ca37:4040\">Spark UI</a></p>\n",
              "\n",
              "            <dl>\n",
              "              <dt>Version</dt>\n",
              "                <dd><code>v3.2.2</code></dd>\n",
              "              <dt>Master</dt>\n",
              "                <dd><code>local[*]</code></dd>\n",
              "              <dt>AppName</dt>\n",
              "                <dd><code>pyspark-shell</code></dd>\n",
              "            </dl>\n",
              "        </div>\n",
              "        \n",
              "            </div>\n",
              "        "
            ]
          },
          "metadata": {},
          "execution_count": 9
        }
      ]
    },
    {
      "cell_type": "code",
      "execution_count": 10,
      "metadata": {
        "id": "qNmRXaUbJm5g"
      },
      "outputs": [],
      "source": [
        "from pyspark.sql import SparkSession\n",
        "import pandas as pd \n",
        "spark = SparkSession.builder.appName('panda-and-spark').getOrCreate()"
      ]
    },
    {
      "cell_type": "markdown",
      "metadata": {
        "id": "OTOpzdnVJm5h"
      },
      "source": [
        "### Overview\n",
        "\n",
        "\n",
        "* Joining two dataframes/data sets\n",
        "* Simple aggregations\n",
        "* Persisting"
      ]
    },
    {
      "cell_type": "markdown",
      "metadata": {
        "id": "uuNKeolEJm5i"
      },
      "source": [
        "#### JOIN: Pandas\n",
        "\n",
        "We won't use this more in this notebook, but observe how the joins work.\n",
        "\n",
        "We what happens if you change from the default inner join to outer joins."
      ]
    },
    {
      "cell_type": "code",
      "execution_count": 11,
      "metadata": {
        "id": "6x-ykpgrJm5i"
      },
      "outputs": [],
      "source": [
        "customer_raw = [(1, 'bob', 3462543658686),\n",
        "           (2, 'rob', 9087567565439),\n",
        "           (3, 'tim', 5436586999467),\n",
        "           (4, 'tom', 8349756853250)]\n",
        "\n",
        "customer_cols = ['id', 'name', 'credit_card_number']\n",
        "\n",
        "\n",
        "\n",
        "orders_raw = [(1, 'ketchup', 'bob', 1.20),\n",
        "           (2, 'rutabaga', 'bob', 3.35),\n",
        "           (3, 'fake vegan meat', 'rob', 13.99),\n",
        "           (4, 'cheesey poofs', 'tim', 3.99),\n",
        "           (5, 'ice cream', 'tim', 4.95),\n",
        "           (6, 'protein powder', 'tom', 49.95)]\n",
        "\n",
        "orders_cols = ['id', 'product_name', 'customer', 'price']"
      ]
    },
    {
      "cell_type": "code",
      "execution_count": 12,
      "metadata": {
        "id": "Be-OMbTLJm5k",
        "outputId": "9e110e41-2df6-40a1-e8d4-3e264153e883",
        "colab": {
          "base_uri": "https://localhost:8080/",
          "height": 238
        }
      },
      "outputs": [
        {
          "output_type": "execute_result",
          "data": {
            "text/plain": [
              "   id_x name  credit_card_number  id_y     product_name customer  price\n",
              "0     1  bob       3462543658686     1          ketchup      bob   1.20\n",
              "1     1  bob       3462543658686     2         rutabaga      bob   3.35\n",
              "2     2  rob       9087567565439     3  fake vegan meat      rob  13.99\n",
              "3     3  tim       5436586999467     4    cheesey poofs      tim   3.99\n",
              "4     3  tim       5436586999467     5        ice cream      tim   4.95\n",
              "5     4  tom       8349756853250     6   protein powder      tom  49.95"
            ],
            "text/html": [
              "\n",
              "  <div id=\"df-ca6a5d1e-563f-4939-a882-0bc84c7ad8b6\">\n",
              "    <div class=\"colab-df-container\">\n",
              "      <div>\n",
              "<style scoped>\n",
              "    .dataframe tbody tr th:only-of-type {\n",
              "        vertical-align: middle;\n",
              "    }\n",
              "\n",
              "    .dataframe tbody tr th {\n",
              "        vertical-align: top;\n",
              "    }\n",
              "\n",
              "    .dataframe thead th {\n",
              "        text-align: right;\n",
              "    }\n",
              "</style>\n",
              "<table border=\"1\" class=\"dataframe\">\n",
              "  <thead>\n",
              "    <tr style=\"text-align: right;\">\n",
              "      <th></th>\n",
              "      <th>id_x</th>\n",
              "      <th>name</th>\n",
              "      <th>credit_card_number</th>\n",
              "      <th>id_y</th>\n",
              "      <th>product_name</th>\n",
              "      <th>customer</th>\n",
              "      <th>price</th>\n",
              "    </tr>\n",
              "  </thead>\n",
              "  <tbody>\n",
              "    <tr>\n",
              "      <th>0</th>\n",
              "      <td>1</td>\n",
              "      <td>bob</td>\n",
              "      <td>3462543658686</td>\n",
              "      <td>1</td>\n",
              "      <td>ketchup</td>\n",
              "      <td>bob</td>\n",
              "      <td>1.20</td>\n",
              "    </tr>\n",
              "    <tr>\n",
              "      <th>1</th>\n",
              "      <td>1</td>\n",
              "      <td>bob</td>\n",
              "      <td>3462543658686</td>\n",
              "      <td>2</td>\n",
              "      <td>rutabaga</td>\n",
              "      <td>bob</td>\n",
              "      <td>3.35</td>\n",
              "    </tr>\n",
              "    <tr>\n",
              "      <th>2</th>\n",
              "      <td>2</td>\n",
              "      <td>rob</td>\n",
              "      <td>9087567565439</td>\n",
              "      <td>3</td>\n",
              "      <td>fake vegan meat</td>\n",
              "      <td>rob</td>\n",
              "      <td>13.99</td>\n",
              "    </tr>\n",
              "    <tr>\n",
              "      <th>3</th>\n",
              "      <td>3</td>\n",
              "      <td>tim</td>\n",
              "      <td>5436586999467</td>\n",
              "      <td>4</td>\n",
              "      <td>cheesey poofs</td>\n",
              "      <td>tim</td>\n",
              "      <td>3.99</td>\n",
              "    </tr>\n",
              "    <tr>\n",
              "      <th>4</th>\n",
              "      <td>3</td>\n",
              "      <td>tim</td>\n",
              "      <td>5436586999467</td>\n",
              "      <td>5</td>\n",
              "      <td>ice cream</td>\n",
              "      <td>tim</td>\n",
              "      <td>4.95</td>\n",
              "    </tr>\n",
              "    <tr>\n",
              "      <th>5</th>\n",
              "      <td>4</td>\n",
              "      <td>tom</td>\n",
              "      <td>8349756853250</td>\n",
              "      <td>6</td>\n",
              "      <td>protein powder</td>\n",
              "      <td>tom</td>\n",
              "      <td>49.95</td>\n",
              "    </tr>\n",
              "  </tbody>\n",
              "</table>\n",
              "</div>\n",
              "      <button class=\"colab-df-convert\" onclick=\"convertToInteractive('df-ca6a5d1e-563f-4939-a882-0bc84c7ad8b6')\"\n",
              "              title=\"Convert this dataframe to an interactive table.\"\n",
              "              style=\"display:none;\">\n",
              "        \n",
              "  <svg xmlns=\"http://www.w3.org/2000/svg\" height=\"24px\"viewBox=\"0 0 24 24\"\n",
              "       width=\"24px\">\n",
              "    <path d=\"M0 0h24v24H0V0z\" fill=\"none\"/>\n",
              "    <path d=\"M18.56 5.44l.94 2.06.94-2.06 2.06-.94-2.06-.94-.94-2.06-.94 2.06-2.06.94zm-11 1L8.5 8.5l.94-2.06 2.06-.94-2.06-.94L8.5 2.5l-.94 2.06-2.06.94zm10 10l.94 2.06.94-2.06 2.06-.94-2.06-.94-.94-2.06-.94 2.06-2.06.94z\"/><path d=\"M17.41 7.96l-1.37-1.37c-.4-.4-.92-.59-1.43-.59-.52 0-1.04.2-1.43.59L10.3 9.45l-7.72 7.72c-.78.78-.78 2.05 0 2.83L4 21.41c.39.39.9.59 1.41.59.51 0 1.02-.2 1.41-.59l7.78-7.78 2.81-2.81c.8-.78.8-2.07 0-2.86zM5.41 20L4 18.59l7.72-7.72 1.47 1.35L5.41 20z\"/>\n",
              "  </svg>\n",
              "      </button>\n",
              "      \n",
              "  <style>\n",
              "    .colab-df-container {\n",
              "      display:flex;\n",
              "      flex-wrap:wrap;\n",
              "      gap: 12px;\n",
              "    }\n",
              "\n",
              "    .colab-df-convert {\n",
              "      background-color: #E8F0FE;\n",
              "      border: none;\n",
              "      border-radius: 50%;\n",
              "      cursor: pointer;\n",
              "      display: none;\n",
              "      fill: #1967D2;\n",
              "      height: 32px;\n",
              "      padding: 0 0 0 0;\n",
              "      width: 32px;\n",
              "    }\n",
              "\n",
              "    .colab-df-convert:hover {\n",
              "      background-color: #E2EBFA;\n",
              "      box-shadow: 0px 1px 2px rgba(60, 64, 67, 0.3), 0px 1px 3px 1px rgba(60, 64, 67, 0.15);\n",
              "      fill: #174EA6;\n",
              "    }\n",
              "\n",
              "    [theme=dark] .colab-df-convert {\n",
              "      background-color: #3B4455;\n",
              "      fill: #D2E3FC;\n",
              "    }\n",
              "\n",
              "    [theme=dark] .colab-df-convert:hover {\n",
              "      background-color: #434B5C;\n",
              "      box-shadow: 0px 1px 3px 1px rgba(0, 0, 0, 0.15);\n",
              "      filter: drop-shadow(0px 1px 2px rgba(0, 0, 0, 0.3));\n",
              "      fill: #FFFFFF;\n",
              "    }\n",
              "  </style>\n",
              "\n",
              "      <script>\n",
              "        const buttonEl =\n",
              "          document.querySelector('#df-ca6a5d1e-563f-4939-a882-0bc84c7ad8b6 button.colab-df-convert');\n",
              "        buttonEl.style.display =\n",
              "          google.colab.kernel.accessAllowed ? 'block' : 'none';\n",
              "\n",
              "        async function convertToInteractive(key) {\n",
              "          const element = document.querySelector('#df-ca6a5d1e-563f-4939-a882-0bc84c7ad8b6');\n",
              "          const dataTable =\n",
              "            await google.colab.kernel.invokeFunction('convertToInteractive',\n",
              "                                                     [key], {});\n",
              "          if (!dataTable) return;\n",
              "\n",
              "          const docLinkHtml = 'Like what you see? Visit the ' +\n",
              "            '<a target=\"_blank\" href=https://colab.research.google.com/notebooks/data_table.ipynb>data table notebook</a>'\n",
              "            + ' to learn more about interactive tables.';\n",
              "          element.innerHTML = '';\n",
              "          dataTable['output_type'] = 'display_data';\n",
              "          await google.colab.output.renderOutput(dataTable, element);\n",
              "          const docLink = document.createElement('div');\n",
              "          docLink.innerHTML = docLinkHtml;\n",
              "          element.appendChild(docLink);\n",
              "        }\n",
              "      </script>\n",
              "    </div>\n",
              "  </div>\n",
              "  "
            ]
          },
          "metadata": {},
          "execution_count": 12
        }
      ],
      "source": [
        "customer_df = pd.DataFrame(customer_raw, columns=customer_cols)\n",
        "orders_df = pd.DataFrame(orders_raw, columns=orders_cols)\n",
        "\n",
        "customer_df\n",
        "\n",
        "joined_df = pd.merge(customer_df, orders_df, how='inner', left_on='name', right_on='customer')\n",
        "joined_df\n",
        "\n",
        "## For self study. What happens if (4, 'tom', 8349756853250) in valuesA becomes (4, 'tod', 8349756853250)\n",
        "## How do the results change?\n",
        "## More sensibly; what if customers have not made any orders but we still require them in the result set? "
      ]
    },
    {
      "cell_type": "markdown",
      "metadata": {
        "id": "bkHwPgT8Jm5m"
      },
      "source": [
        "#### JOIN: Spark"
      ]
    },
    {
      "cell_type": "code",
      "execution_count": 13,
      "metadata": {
        "id": "IUmBo1BWJm5n",
        "outputId": "0a0c08a3-9f5e-4fa0-aee2-16c7f2492d32",
        "colab": {
          "base_uri": "https://localhost:8080/"
        }
      },
      "outputs": [
        {
          "output_type": "stream",
          "name": "stdout",
          "text": [
            "+---+----+------------------+\n",
            "| id|name|credit_card_number|\n",
            "+---+----+------------------+\n",
            "|  1| bob|     3462543658686|\n",
            "|  2| rob|     9087567565439|\n",
            "|  3| tim|     5436586999467|\n",
            "|  4| tom|     8349756853250|\n",
            "+---+----+------------------+\n",
            "\n",
            "+---+---------------+--------+-----+\n",
            "| id|   product_name|customer|price|\n",
            "+---+---------------+--------+-----+\n",
            "|  1|        ketchup|     bob|  1.2|\n",
            "|  2|       rutabaga|     bob| 3.35|\n",
            "|  3|fake vegan meat|     rob|13.99|\n",
            "|  4|  cheesey poofs|     tim| 3.99|\n",
            "|  5|      ice cream|     tim| 4.95|\n",
            "|  6| protein powder|     tom|49.95|\n",
            "+---+---------------+--------+-----+\n",
            "\n"
          ]
        }
      ],
      "source": [
        "customersDF = spark.createDataFrame(customer_raw, customer_cols)\n",
        "\n",
        "ordersDF = spark.createDataFrame(orders_raw, orders_cols)\n",
        "\n",
        "# Show tables\n",
        "customersDF.show()\n",
        "ordersDF.show()"
      ]
    },
    {
      "cell_type": "code",
      "execution_count": 14,
      "metadata": {
        "id": "h7uGTsYFJm5o",
        "outputId": "65e9566e-b88e-4d16-a3f9-077297ba5ab2",
        "colab": {
          "base_uri": "https://localhost:8080/"
        }
      },
      "outputs": [
        {
          "output_type": "stream",
          "name": "stdout",
          "text": [
            "+---+----+------------------+---+---------------+--------+-----+\n",
            "| id|name|credit_card_number| id|   product_name|customer|price|\n",
            "+---+----+------------------+---+---------------+--------+-----+\n",
            "|  1| bob|     3462543658686|  1|        ketchup|     bob|  1.2|\n",
            "|  1| bob|     3462543658686|  2|       rutabaga|     bob| 3.35|\n",
            "|  2| rob|     9087567565439|  3|fake vegan meat|     rob|13.99|\n",
            "|  3| tim|     5436586999467|  4|  cheesey poofs|     tim| 3.99|\n",
            "|  3| tim|     5436586999467|  5|      ice cream|     tim| 4.95|\n",
            "|  4| tom|     8349756853250|  6| protein powder|     tom|49.95|\n",
            "+---+----+------------------+---+---------------+--------+-----+\n",
            "\n"
          ]
        }
      ],
      "source": [
        "joinedDF = customersDF.join(ordersDF, customersDF.name == ordersDF.customer)\n",
        "joinedDF.show()"
      ]
    },
    {
      "cell_type": "markdown",
      "metadata": {
        "id": "m3Ep4kxhJm5o"
      },
      "source": [
        "## Simple Aggregations\n",
        "\n",
        "Now let's explore simple aggregations. You will be using these often when doing exploratory work in big data. Remember, the intention here is that you grow familiar with the way the API works, and how to translate inquiries into that API."
      ]
    },
    {
      "cell_type": "markdown",
      "metadata": {
        "id": "ZYqP9RHAJm5p"
      },
      "source": [
        "> _How much did each person spend?_"
      ]
    },
    {
      "cell_type": "code",
      "execution_count": 15,
      "metadata": {
        "id": "fJKvjIQ_Jm5p",
        "outputId": "e779c843-7287-4216-e8af-b3cc52a6710c",
        "colab": {
          "base_uri": "https://localhost:8080/",
          "height": 238
        }
      },
      "outputs": [
        {
          "output_type": "execute_result",
          "data": {
            "text/plain": [
              "      price\n",
              "        sum\n",
              "name       \n",
              "bob    4.55\n",
              "rob   13.99\n",
              "tim    8.94\n",
              "tom   49.95"
            ],
            "text/html": [
              "\n",
              "  <div id=\"df-dce232c8-295b-4e85-8ad6-24e89d216095\">\n",
              "    <div class=\"colab-df-container\">\n",
              "      <div>\n",
              "<style scoped>\n",
              "    .dataframe tbody tr th:only-of-type {\n",
              "        vertical-align: middle;\n",
              "    }\n",
              "\n",
              "    .dataframe tbody tr th {\n",
              "        vertical-align: top;\n",
              "    }\n",
              "\n",
              "    .dataframe thead tr th {\n",
              "        text-align: left;\n",
              "    }\n",
              "\n",
              "    .dataframe thead tr:last-of-type th {\n",
              "        text-align: right;\n",
              "    }\n",
              "</style>\n",
              "<table border=\"1\" class=\"dataframe\">\n",
              "  <thead>\n",
              "    <tr>\n",
              "      <th></th>\n",
              "      <th>price</th>\n",
              "    </tr>\n",
              "    <tr>\n",
              "      <th></th>\n",
              "      <th>sum</th>\n",
              "    </tr>\n",
              "    <tr>\n",
              "      <th>name</th>\n",
              "      <th></th>\n",
              "    </tr>\n",
              "  </thead>\n",
              "  <tbody>\n",
              "    <tr>\n",
              "      <th>bob</th>\n",
              "      <td>4.55</td>\n",
              "    </tr>\n",
              "    <tr>\n",
              "      <th>rob</th>\n",
              "      <td>13.99</td>\n",
              "    </tr>\n",
              "    <tr>\n",
              "      <th>tim</th>\n",
              "      <td>8.94</td>\n",
              "    </tr>\n",
              "    <tr>\n",
              "      <th>tom</th>\n",
              "      <td>49.95</td>\n",
              "    </tr>\n",
              "  </tbody>\n",
              "</table>\n",
              "</div>\n",
              "      <button class=\"colab-df-convert\" onclick=\"convertToInteractive('df-dce232c8-295b-4e85-8ad6-24e89d216095')\"\n",
              "              title=\"Convert this dataframe to an interactive table.\"\n",
              "              style=\"display:none;\">\n",
              "        \n",
              "  <svg xmlns=\"http://www.w3.org/2000/svg\" height=\"24px\"viewBox=\"0 0 24 24\"\n",
              "       width=\"24px\">\n",
              "    <path d=\"M0 0h24v24H0V0z\" fill=\"none\"/>\n",
              "    <path d=\"M18.56 5.44l.94 2.06.94-2.06 2.06-.94-2.06-.94-.94-2.06-.94 2.06-2.06.94zm-11 1L8.5 8.5l.94-2.06 2.06-.94-2.06-.94L8.5 2.5l-.94 2.06-2.06.94zm10 10l.94 2.06.94-2.06 2.06-.94-2.06-.94-.94-2.06-.94 2.06-2.06.94z\"/><path d=\"M17.41 7.96l-1.37-1.37c-.4-.4-.92-.59-1.43-.59-.52 0-1.04.2-1.43.59L10.3 9.45l-7.72 7.72c-.78.78-.78 2.05 0 2.83L4 21.41c.39.39.9.59 1.41.59.51 0 1.02-.2 1.41-.59l7.78-7.78 2.81-2.81c.8-.78.8-2.07 0-2.86zM5.41 20L4 18.59l7.72-7.72 1.47 1.35L5.41 20z\"/>\n",
              "  </svg>\n",
              "      </button>\n",
              "      \n",
              "  <style>\n",
              "    .colab-df-container {\n",
              "      display:flex;\n",
              "      flex-wrap:wrap;\n",
              "      gap: 12px;\n",
              "    }\n",
              "\n",
              "    .colab-df-convert {\n",
              "      background-color: #E8F0FE;\n",
              "      border: none;\n",
              "      border-radius: 50%;\n",
              "      cursor: pointer;\n",
              "      display: none;\n",
              "      fill: #1967D2;\n",
              "      height: 32px;\n",
              "      padding: 0 0 0 0;\n",
              "      width: 32px;\n",
              "    }\n",
              "\n",
              "    .colab-df-convert:hover {\n",
              "      background-color: #E2EBFA;\n",
              "      box-shadow: 0px 1px 2px rgba(60, 64, 67, 0.3), 0px 1px 3px 1px rgba(60, 64, 67, 0.15);\n",
              "      fill: #174EA6;\n",
              "    }\n",
              "\n",
              "    [theme=dark] .colab-df-convert {\n",
              "      background-color: #3B4455;\n",
              "      fill: #D2E3FC;\n",
              "    }\n",
              "\n",
              "    [theme=dark] .colab-df-convert:hover {\n",
              "      background-color: #434B5C;\n",
              "      box-shadow: 0px 1px 3px 1px rgba(0, 0, 0, 0.15);\n",
              "      filter: drop-shadow(0px 1px 2px rgba(0, 0, 0, 0.3));\n",
              "      fill: #FFFFFF;\n",
              "    }\n",
              "  </style>\n",
              "\n",
              "      <script>\n",
              "        const buttonEl =\n",
              "          document.querySelector('#df-dce232c8-295b-4e85-8ad6-24e89d216095 button.colab-df-convert');\n",
              "        buttonEl.style.display =\n",
              "          google.colab.kernel.accessAllowed ? 'block' : 'none';\n",
              "\n",
              "        async function convertToInteractive(key) {\n",
              "          const element = document.querySelector('#df-dce232c8-295b-4e85-8ad6-24e89d216095');\n",
              "          const dataTable =\n",
              "            await google.colab.kernel.invokeFunction('convertToInteractive',\n",
              "                                                     [key], {});\n",
              "          if (!dataTable) return;\n",
              "\n",
              "          const docLinkHtml = 'Like what you see? Visit the ' +\n",
              "            '<a target=\"_blank\" href=https://colab.research.google.com/notebooks/data_table.ipynb>data table notebook</a>'\n",
              "            + ' to learn more about interactive tables.';\n",
              "          element.innerHTML = '';\n",
              "          dataTable['output_type'] = 'display_data';\n",
              "          await google.colab.output.renderOutput(dataTable, element);\n",
              "          const docLink = document.createElement('div');\n",
              "          docLink.innerHTML = docLinkHtml;\n",
              "          element.appendChild(docLink);\n",
              "        }\n",
              "      </script>\n",
              "    </div>\n",
              "  </div>\n",
              "  "
            ]
          },
          "metadata": {},
          "execution_count": 15
        }
      ],
      "source": [
        "joined_df.groupby('name').agg({\"price\": [\"sum\"]}) "
      ]
    },
    {
      "cell_type": "code",
      "execution_count": 16,
      "metadata": {
        "id": "_D34aqi-Jm5p",
        "outputId": "65203d1d-aaa9-4765-fca4-5dc9d2334a7f",
        "colab": {
          "base_uri": "https://localhost:8080/"
        }
      },
      "outputs": [
        {
          "output_type": "stream",
          "name": "stdout",
          "text": [
            "+----+-----------------+\n",
            "|name|            total|\n",
            "+----+-----------------+\n",
            "| bob|             4.55|\n",
            "| rob|            13.99|\n",
            "| tim|8.940000000000001|\n",
            "| tom|            49.95|\n",
            "+----+-----------------+\n",
            "\n"
          ]
        }
      ],
      "source": [
        "import pyspark.sql.functions as f\n",
        "\n",
        "joinedDF.groupby('name').agg(f.sum('price').alias('total')).show()"
      ]
    },
    {
      "cell_type": "markdown",
      "metadata": {
        "id": "i1LBl34oJm5p"
      },
      "source": [
        "Let's use bigger data\n",
        "  * NYC crash data"
      ]
    },
    {
      "cell_type": "code",
      "execution_count": 18,
      "metadata": {
        "id": "94oC8BtPJm5q",
        "outputId": "3f462d80-8b2e-4113-8eb7-9ce2b2c80607",
        "colab": {
          "base_uri": "https://localhost:8080/"
        }
      },
      "outputs": [
        {
          "output_type": "stream",
          "name": "stdout",
          "text": [
            "  % Total    % Received % Xferd  Average Speed   Time    Time     Time  Current\n",
            "                                 Dload  Upload   Total   Spent    Left  Speed\n",
            "100  391M    0  391M    0     0  3223k      0 --:--:--  0:02:04 --:--:-- 3782k\n"
          ]
        }
      ],
      "source": [
        "# save to the filesystem to prevent another load\n",
        "! curl -o rows.csv https://data.cityofnewyork.us/api/views/h9gi-nx95/rows.csv"
      ]
    },
    {
      "cell_type": "code",
      "execution_count": 19,
      "metadata": {
        "id": "VFozralzJm5q",
        "outputId": "01f2bd73-5dfe-4d5c-d7ad-1bc527057a79",
        "colab": {
          "base_uri": "https://localhost:8080/"
        }
      },
      "outputs": [
        {
          "output_type": "stream",
          "name": "stderr",
          "text": [
            "/usr/local/lib/python3.7/dist-packages/IPython/core/interactiveshell.py:2882: DtypeWarning: Columns (3) have mixed types.Specify dtype option on import or set low_memory=False.\n",
            "  exec(code_obj, self.user_global_ns, self.user_ns)\n"
          ]
        }
      ],
      "source": [
        "import pandas as pd\n",
        "nyc_df = pd.read_csv('rows.csv')"
      ]
    },
    {
      "cell_type": "code",
      "execution_count": 20,
      "metadata": {
        "id": "anWDGzN6Jm5q",
        "outputId": "53bdb444-9538-40e4-ed64-55882736b5a2",
        "colab": {
          "base_uri": "https://localhost:8080/"
        }
      },
      "outputs": [
        {
          "output_type": "stream",
          "name": "stdout",
          "text": [
            "1917681\n"
          ]
        }
      ],
      "source": [
        "# number or rows\n",
        "\n",
        "print(len(nyc_df))\n",
        "\n",
        "# this is quite large so we will work with a sample while we experiment in pandas as least."
      ]
    },
    {
      "cell_type": "markdown",
      "metadata": {
        "id": "c57UM7tTJm5r"
      },
      "source": [
        "We'll take a random sample at 20% of the original data"
      ]
    },
    {
      "cell_type": "code",
      "execution_count": 21,
      "metadata": {
        "id": "R6a-vC9SJm5r"
      },
      "outputs": [],
      "source": [
        "nyc_small = nyc_df.sample(frac=0.2, replace=False, random_state=1)"
      ]
    },
    {
      "cell_type": "code",
      "execution_count": 22,
      "metadata": {
        "id": "EWcAQDQPJm5r"
      },
      "outputs": [],
      "source": [
        "# we are also going to limit the columns to those we are going to work with\n",
        "\n",
        "nyc_small = nyc_small[['CRASH DATE', 'CONTRIBUTING FACTOR VEHICLE 1', \n",
        "                       'BOROUGH', 'VEHICLE TYPE CODE 1', \n",
        "                       'NUMBER OF PERSONS INJURED']]"
      ]
    },
    {
      "cell_type": "code",
      "execution_count": 38,
      "metadata": {
        "id": "tG7mLYsvJm5r",
        "outputId": "9543e560-e22b-42ee-f11d-aeac065c6d24",
        "colab": {
          "base_uri": "https://localhost:8080/",
          "height": 206
        }
      },
      "outputs": [
        {
          "output_type": "execute_result",
          "data": {
            "text/plain": [
              "         CRASH DATE   CONTRIBUTING FACTOR VEHICLE 1    BOROUGH  \\\n",
              "797894   09/13/2017                     Unspecified        NaN   \n",
              "461101   03/23/2019           Following Too Closely  MANHATTAN   \n",
              "1293045  07/24/2015                     Unspecified     QUEENS   \n",
              "482248   01/30/2019  Driver Inattention/Distraction   BROOKLYN   \n",
              "1504308  07/15/2014             Driver Inexperience      BRONX   \n",
              "\n",
              "                         VEHICLE TYPE CODE 1  NUMBER OF PERSONS INJURED  \n",
              "797894                                 Sedan                        0.0  \n",
              "461101   Station Wagon/Sport Utility Vehicle                        0.0  \n",
              "1293045                    PASSENGER VEHICLE                        0.0  \n",
              "482248                                 Sedan                        0.0  \n",
              "1504308        SPORT UTILITY / STATION WAGON                        0.0  "
            ],
            "text/html": [
              "\n",
              "  <div id=\"df-0d24f092-a2b1-4996-ad4b-83be6a56ffc8\">\n",
              "    <div class=\"colab-df-container\">\n",
              "      <div>\n",
              "<style scoped>\n",
              "    .dataframe tbody tr th:only-of-type {\n",
              "        vertical-align: middle;\n",
              "    }\n",
              "\n",
              "    .dataframe tbody tr th {\n",
              "        vertical-align: top;\n",
              "    }\n",
              "\n",
              "    .dataframe thead th {\n",
              "        text-align: right;\n",
              "    }\n",
              "</style>\n",
              "<table border=\"1\" class=\"dataframe\">\n",
              "  <thead>\n",
              "    <tr style=\"text-align: right;\">\n",
              "      <th></th>\n",
              "      <th>CRASH DATE</th>\n",
              "      <th>CONTRIBUTING FACTOR VEHICLE 1</th>\n",
              "      <th>BOROUGH</th>\n",
              "      <th>VEHICLE TYPE CODE 1</th>\n",
              "      <th>NUMBER OF PERSONS INJURED</th>\n",
              "    </tr>\n",
              "  </thead>\n",
              "  <tbody>\n",
              "    <tr>\n",
              "      <th>797894</th>\n",
              "      <td>09/13/2017</td>\n",
              "      <td>Unspecified</td>\n",
              "      <td>NaN</td>\n",
              "      <td>Sedan</td>\n",
              "      <td>0.0</td>\n",
              "    </tr>\n",
              "    <tr>\n",
              "      <th>461101</th>\n",
              "      <td>03/23/2019</td>\n",
              "      <td>Following Too Closely</td>\n",
              "      <td>MANHATTAN</td>\n",
              "      <td>Station Wagon/Sport Utility Vehicle</td>\n",
              "      <td>0.0</td>\n",
              "    </tr>\n",
              "    <tr>\n",
              "      <th>1293045</th>\n",
              "      <td>07/24/2015</td>\n",
              "      <td>Unspecified</td>\n",
              "      <td>QUEENS</td>\n",
              "      <td>PASSENGER VEHICLE</td>\n",
              "      <td>0.0</td>\n",
              "    </tr>\n",
              "    <tr>\n",
              "      <th>482248</th>\n",
              "      <td>01/30/2019</td>\n",
              "      <td>Driver Inattention/Distraction</td>\n",
              "      <td>BROOKLYN</td>\n",
              "      <td>Sedan</td>\n",
              "      <td>0.0</td>\n",
              "    </tr>\n",
              "    <tr>\n",
              "      <th>1504308</th>\n",
              "      <td>07/15/2014</td>\n",
              "      <td>Driver Inexperience</td>\n",
              "      <td>BRONX</td>\n",
              "      <td>SPORT UTILITY / STATION WAGON</td>\n",
              "      <td>0.0</td>\n",
              "    </tr>\n",
              "  </tbody>\n",
              "</table>\n",
              "</div>\n",
              "      <button class=\"colab-df-convert\" onclick=\"convertToInteractive('df-0d24f092-a2b1-4996-ad4b-83be6a56ffc8')\"\n",
              "              title=\"Convert this dataframe to an interactive table.\"\n",
              "              style=\"display:none;\">\n",
              "        \n",
              "  <svg xmlns=\"http://www.w3.org/2000/svg\" height=\"24px\"viewBox=\"0 0 24 24\"\n",
              "       width=\"24px\">\n",
              "    <path d=\"M0 0h24v24H0V0z\" fill=\"none\"/>\n",
              "    <path d=\"M18.56 5.44l.94 2.06.94-2.06 2.06-.94-2.06-.94-.94-2.06-.94 2.06-2.06.94zm-11 1L8.5 8.5l.94-2.06 2.06-.94-2.06-.94L8.5 2.5l-.94 2.06-2.06.94zm10 10l.94 2.06.94-2.06 2.06-.94-2.06-.94-.94-2.06-.94 2.06-2.06.94z\"/><path d=\"M17.41 7.96l-1.37-1.37c-.4-.4-.92-.59-1.43-.59-.52 0-1.04.2-1.43.59L10.3 9.45l-7.72 7.72c-.78.78-.78 2.05 0 2.83L4 21.41c.39.39.9.59 1.41.59.51 0 1.02-.2 1.41-.59l7.78-7.78 2.81-2.81c.8-.78.8-2.07 0-2.86zM5.41 20L4 18.59l7.72-7.72 1.47 1.35L5.41 20z\"/>\n",
              "  </svg>\n",
              "      </button>\n",
              "      \n",
              "  <style>\n",
              "    .colab-df-container {\n",
              "      display:flex;\n",
              "      flex-wrap:wrap;\n",
              "      gap: 12px;\n",
              "    }\n",
              "\n",
              "    .colab-df-convert {\n",
              "      background-color: #E8F0FE;\n",
              "      border: none;\n",
              "      border-radius: 50%;\n",
              "      cursor: pointer;\n",
              "      display: none;\n",
              "      fill: #1967D2;\n",
              "      height: 32px;\n",
              "      padding: 0 0 0 0;\n",
              "      width: 32px;\n",
              "    }\n",
              "\n",
              "    .colab-df-convert:hover {\n",
              "      background-color: #E2EBFA;\n",
              "      box-shadow: 0px 1px 2px rgba(60, 64, 67, 0.3), 0px 1px 3px 1px rgba(60, 64, 67, 0.15);\n",
              "      fill: #174EA6;\n",
              "    }\n",
              "\n",
              "    [theme=dark] .colab-df-convert {\n",
              "      background-color: #3B4455;\n",
              "      fill: #D2E3FC;\n",
              "    }\n",
              "\n",
              "    [theme=dark] .colab-df-convert:hover {\n",
              "      background-color: #434B5C;\n",
              "      box-shadow: 0px 1px 3px 1px rgba(0, 0, 0, 0.15);\n",
              "      filter: drop-shadow(0px 1px 2px rgba(0, 0, 0, 0.3));\n",
              "      fill: #FFFFFF;\n",
              "    }\n",
              "  </style>\n",
              "\n",
              "      <script>\n",
              "        const buttonEl =\n",
              "          document.querySelector('#df-0d24f092-a2b1-4996-ad4b-83be6a56ffc8 button.colab-df-convert');\n",
              "        buttonEl.style.display =\n",
              "          google.colab.kernel.accessAllowed ? 'block' : 'none';\n",
              "\n",
              "        async function convertToInteractive(key) {\n",
              "          const element = document.querySelector('#df-0d24f092-a2b1-4996-ad4b-83be6a56ffc8');\n",
              "          const dataTable =\n",
              "            await google.colab.kernel.invokeFunction('convertToInteractive',\n",
              "                                                     [key], {});\n",
              "          if (!dataTable) return;\n",
              "\n",
              "          const docLinkHtml = 'Like what you see? Visit the ' +\n",
              "            '<a target=\"_blank\" href=https://colab.research.google.com/notebooks/data_table.ipynb>data table notebook</a>'\n",
              "            + ' to learn more about interactive tables.';\n",
              "          element.innerHTML = '';\n",
              "          dataTable['output_type'] = 'display_data';\n",
              "          await google.colab.output.renderOutput(dataTable, element);\n",
              "          const docLink = document.createElement('div');\n",
              "          docLink.innerHTML = docLinkHtml;\n",
              "          element.appendChild(docLink);\n",
              "        }\n",
              "      </script>\n",
              "    </div>\n",
              "  </div>\n",
              "  "
            ]
          },
          "metadata": {},
          "execution_count": 38
        }
      ],
      "source": [
        "nyc_small.head(5)"
      ]
    },
    {
      "cell_type": "markdown",
      "metadata": {
        "id": "Fthv1IzaJm5s"
      },
      "source": [
        "Now, let's create the pyspark dataframe. Now we two frames with the same content\n",
        "  * nyc_small: pandas\n",
        "  * sdf_small: pyspark"
      ]
    },
    {
      "cell_type": "code",
      "execution_count": 25,
      "metadata": {
        "id": "9VVHfRpWJm5s",
        "outputId": "7eb86ebc-465a-4849-cffb-12c583744bfb",
        "colab": {
          "base_uri": "https://localhost:8080/"
        }
      },
      "outputs": [
        {
          "output_type": "stream",
          "name": "stderr",
          "text": [
            "/content/spark-3.2.2-bin-hadoop3.2/python/pyspark/sql/context.py:79: FutureWarning: Deprecated in 3.0.0. Use SparkSession.builder.getOrCreate() instead.\n",
            "  FutureWarning\n"
          ]
        },
        {
          "output_type": "stream",
          "name": "stdout",
          "text": [
            "StructType(List(StructField(CRASH DATE,StringType,true),StructField(CONTRIBUTING FACTOR VEHICLE 1,StringType,true),StructField(BOROUGH,StringType,true),StructField(VEHICLE TYPE CODE 1,StringType,true),StructField(NUMBER OF PERSONS INJURED,StringType,true)))\n"
          ]
        }
      ],
      "source": [
        "from pyspark.sql import SQLContext\n",
        "\n",
        "\n",
        "# there are nan's in the frame with strings, and spark can't 'infer the schema', so we have to help it out \n",
        "# by replacing them with empty strings and forcing the column to be a string\n",
        "\n",
        "sdf_small = SQLContext(spark).createDataFrame(nyc_small.fillna('').astype('str'))\n",
        "\n",
        "\n",
        "# Lets check the schema quickly\n",
        "\n",
        "print(sdf_small.schema)"
      ]
    },
    {
      "cell_type": "markdown",
      "metadata": {
        "id": "IZtTRVm0Jm5s"
      },
      "source": [
        "# Questions\n",
        "\n",
        "Answer the following questions by porting the pandas code to the Spark API\n"
      ]
    },
    {
      "cell_type": "markdown",
      "metadata": {
        "id": "JWBOdLJHJm5s"
      },
      "source": [
        "\n",
        "# Question 1\n",
        "\n",
        "\n",
        "> On what day do most crashes occcur?"
      ]
    },
    {
      "cell_type": "code",
      "execution_count": null,
      "metadata": {
        "id": "z2AAce4CJm5s"
      },
      "outputs": [],
      "source": [
        "# Pandas\n",
        "nyc_small.groupby('CRASH DATE')['CRASH DATE'].count().sort_values(ascending=False).head(5)"
      ]
    },
    {
      "cell_type": "code",
      "execution_count": 35,
      "metadata": {
        "id": "dWXptHeBJm5t",
        "outputId": "a4f7386a-7a28-4fcc-bb00-577ca70fdf20",
        "colab": {
          "base_uri": "https://localhost:8080/"
        }
      },
      "outputs": [
        {
          "output_type": "stream",
          "name": "stdout",
          "text": [
            "+----------+-------------+\n",
            "|CRASH DATE|Total_per_day|\n",
            "+----------+-------------+\n",
            "|01/21/2014|          256|\n",
            "|11/15/2018|          202|\n",
            "|01/07/2017|          194|\n",
            "+----------+-------------+\n",
            "only showing top 3 rows\n",
            "\n"
          ]
        }
      ],
      "source": [
        "### Spark?\n",
        "from pyspark.sql.functions import sum,col,desc,count # import important aggregate functions\n",
        "\n",
        "sdf_small.groupby('CRASH DATE').agg(count('CRASH DATE').alias(\"Total_per_day\")).sort(desc(\"Total_per_day\")).show(3)"
      ]
    },
    {
      "cell_type": "markdown",
      "metadata": {
        "id": "H4dv5X9ZJm5t"
      },
      "source": [
        "# Question 2\n",
        "\n",
        "> _Where do most crashes occur?_"
      ]
    },
    {
      "cell_type": "code",
      "execution_count": 26,
      "metadata": {
        "id": "NU_764ICJm5t",
        "outputId": "1adba088-cc83-4f3d-b5a5-b2794d6ad218",
        "colab": {
          "base_uri": "https://localhost:8080/"
        }
      },
      "outputs": [
        {
          "output_type": "execute_result",
          "data": {
            "text/plain": [
              "BOROUGH\n",
              "BROOKLYN         83897\n",
              "QUEENS           71074\n",
              "MANHATTAN        60108\n",
              "BRONX            38494\n",
              "STATEN ISLAND    11098\n",
              "Name: BOROUGH, dtype: int64"
            ]
          },
          "metadata": {},
          "execution_count": 26
        }
      ],
      "source": [
        "nyc_small.groupby('BOROUGH')['BOROUGH'].count().sort_values(ascending=False).head(5)"
      ]
    },
    {
      "cell_type": "code",
      "execution_count": 36,
      "metadata": {
        "id": "NaP6LiyQJm5t",
        "outputId": "97641ef8-4ed6-4618-89ae-5530b22854e0",
        "colab": {
          "base_uri": "https://localhost:8080/"
        }
      },
      "outputs": [
        {
          "output_type": "stream",
          "name": "stdout",
          "text": [
            "+---------+------+\n",
            "|  BOROUGH| Total|\n",
            "+---------+------+\n",
            "|         |118865|\n",
            "| BROOKLYN| 83897|\n",
            "|   QUEENS| 71074|\n",
            "|MANHATTAN| 60108|\n",
            "|    BRONX| 38494|\n",
            "+---------+------+\n",
            "only showing top 5 rows\n",
            "\n"
          ]
        }
      ],
      "source": [
        "## Spark?\n",
        "\n",
        "sdf_small.groupby('BOROUGH').agg(count('BOROUGH').alias(\"Total\")).sort(desc(\"Total\")).show(5)"
      ]
    },
    {
      "cell_type": "markdown",
      "metadata": {
        "id": "JdbE6xi6Jm5u"
      },
      "source": [
        " # Question 3\n",
        " \n",
        " > What is the most common cause of accident in 'QUEENS'"
      ]
    },
    {
      "cell_type": "code",
      "execution_count": 37,
      "metadata": {
        "id": "12QmT_7vJm5u",
        "outputId": "e507a269-ac41-4ffc-b474-dde5a1b89b68",
        "colab": {
          "base_uri": "https://localhost:8080/"
        }
      },
      "outputs": [
        {
          "output_type": "execute_result",
          "data": {
            "text/plain": [
              "CONTRIBUTING FACTOR VEHICLE 1\n",
              "Unspecified                       25758\n",
              "Driver Inattention/Distraction    14987\n",
              "Failure to Yield Right-of-Way      5957\n",
              "Backing Unsafely                   3566\n",
              "Following Too Closely              2541\n",
              "Name: CONTRIBUTING FACTOR VEHICLE 1, dtype: int64"
            ]
          },
          "metadata": {},
          "execution_count": 37
        }
      ],
      "source": [
        "nyc_small[(nyc_small.BOROUGH == 'QUEENS')]['CONTRIBUTING FACTOR VEHICLE 1'].value_counts()\n",
        "\n",
        "# you can also use a group by (to avoid the pandas value_counts function)\n",
        "\n",
        "nyc_small[(nyc_small.BOROUGH == 'QUEENS')].groupby(\n",
        "    'CONTRIBUTING FACTOR VEHICLE 1'\n",
        ")['CONTRIBUTING FACTOR VEHICLE 1'].count().sort_values(ascending=False).head(5)"
      ]
    },
    {
      "cell_type": "code",
      "source": [
        "sdf_small_update = sdf_small.filter(f.col(\"BOROUGH\")=='QUEENS')\n",
        "sdf_small_update.show(5)"
      ],
      "metadata": {
        "id": "AWEiOgtfGnH-",
        "outputId": "920901d7-5256-4f22-b56a-9b8ed5ff86b9",
        "colab": {
          "base_uri": "https://localhost:8080/"
        }
      },
      "execution_count": 53,
      "outputs": [
        {
          "output_type": "stream",
          "name": "stdout",
          "text": [
            "+----------+-----------------------------+-------+-------------------+-------------------------+\n",
            "|CRASH DATE|CONTRIBUTING FACTOR VEHICLE 1|BOROUGH|VEHICLE TYPE CODE 1|NUMBER OF PERSONS INJURED|\n",
            "+----------+-----------------------------+-------+-------------------+-------------------------+\n",
            "|07/24/2015|                  Unspecified| QUEENS|  PASSENGER VEHICLE|                      0.0|\n",
            "|12/27/2016|                  Unspecified| QUEENS|              Sedan|                      0.0|\n",
            "|09/16/2018|         Driver Inattentio...| QUEENS|              Sedan|                      0.0|\n",
            "|01/14/2020|         Driver Inattentio...| QUEENS|                   |                      1.0|\n",
            "|06/23/2013|                  Unspecified| QUEENS|  PASSENGER VEHICLE|                      0.0|\n",
            "+----------+-----------------------------+-------+-------------------+-------------------------+\n",
            "only showing top 5 rows\n",
            "\n"
          ]
        }
      ]
    },
    {
      "cell_type": "code",
      "execution_count": 55,
      "metadata": {
        "id": "4n0Ou-moJm5u",
        "outputId": "79156c88-5b6a-493e-c987-ed939a343943",
        "colab": {
          "base_uri": "https://localhost:8080/"
        }
      },
      "outputs": [
        {
          "output_type": "stream",
          "name": "stdout",
          "text": [
            "+-----------------------------+-----+\n",
            "|CONTRIBUTING FACTOR VEHICLE 1|Total|\n",
            "+-----------------------------+-----+\n",
            "|                  Unspecified|25758|\n",
            "|         Driver Inattentio...|14987|\n",
            "|         Failure to Yield ...| 5957|\n",
            "|             Backing Unsafely| 3566|\n",
            "|         Following Too Clo...| 2541|\n",
            "+-----------------------------+-----+\n",
            "only showing top 5 rows\n",
            "\n"
          ]
        }
      ],
      "source": [
        "## Spark?\n",
        "sdf_small_update.groupby('CONTRIBUTING FACTOR VEHICLE 1').agg(count('CONTRIBUTING FACTOR VEHICLE 1').alias(\"Total\")).sort(desc(\"Total\")).show(5)"
      ]
    },
    {
      "cell_type": "code",
      "source": [
        "from pyspark.sql import SparkSession"
      ],
      "metadata": {
        "id": "P4ofxY209Yd4"
      },
      "execution_count": 41,
      "outputs": []
    },
    {
      "cell_type": "markdown",
      "metadata": {
        "id": "GUjOJv1vJm5u"
      },
      "source": [
        "# Question 4"
      ]
    },
    {
      "cell_type": "markdown",
      "metadata": {
        "id": "EkifEXDVJm5u"
      },
      "source": [
        "> _What is the average number or injuries for specific cars driving in specific suburbs_\n"
      ]
    },
    {
      "cell_type": "code",
      "execution_count": 56,
      "metadata": {
        "id": "BcghjqyfJm5u",
        "outputId": "44ca60dc-736f-4b3b-cfdf-8bc4dc5a684c",
        "colab": {
          "base_uri": "https://localhost:8080/"
        }
      },
      "outputs": [
        {
          "output_type": "execute_result",
          "data": {
            "text/plain": [
              "VEHICLE TYPE CODE 1  BOROUGH  \n",
              "12 passage           BROOKLYN     5.0\n",
              "amb                  MANHATTAN    4.0\n",
              "PICKUP               BRONX        4.0\n",
              "Name: NUMBER OF PERSONS INJURED, dtype: float64"
            ]
          },
          "metadata": {},
          "execution_count": 56
        }
      ],
      "source": [
        "nyc_small.groupby(['VEHICLE TYPE CODE 1', 'BOROUGH'])['NUMBER OF PERSONS INJURED'].mean().sort_values(ascending=False).head(3)"
      ]
    },
    {
      "cell_type": "code",
      "execution_count": 61,
      "metadata": {
        "id": "hAhIdT0lJm5v",
        "outputId": "19f0c4c3-9fe2-450b-8d08-6522ec9d91d2",
        "colab": {
          "base_uri": "https://localhost:8080/"
        }
      },
      "outputs": [
        {
          "output_type": "stream",
          "name": "stdout",
          "text": [
            "+-------------------+---------+-----+\n",
            "|VEHICLE TYPE CODE 1|  BOROUGH|Total|\n",
            "+-------------------+---------+-----+\n",
            "|         12 passage| BROOKLYN|  5.0|\n",
            "|              BACKH|   QUEENS|  4.0|\n",
            "|                amb|MANHATTAN|  4.0|\n",
            "+-------------------+---------+-----+\n",
            "only showing top 3 rows\n",
            "\n"
          ]
        }
      ],
      "source": [
        "## Spark?\n",
        "from pyspark.sql.functions import sum,col,desc,count,avg # import important aggregate functions\n",
        "sdf_small.groupby('VEHICLE TYPE CODE 1','BOROUGH').agg(avg('NUMBER OF PERSONS INJURED').alias(\"Total\")).sort(desc(\"Total\")).show(3)"
      ]
    },
    {
      "cell_type": "code",
      "source": [
        ""
      ],
      "metadata": {
        "id": "lsYBJA3DJXUO"
      },
      "execution_count": 57,
      "outputs": []
    }
  ],
  "metadata": {
    "kernelspec": {
      "display_name": "Python 3",
      "language": "python",
      "name": "python3"
    },
    "language_info": {
      "codemirror_mode": {
        "name": "ipython",
        "version": 3
      },
      "file_extension": ".py",
      "mimetype": "text/x-python",
      "name": "python",
      "nbconvert_exporter": "python",
      "pygments_lexer": "ipython3",
      "version": "3.6.9"
    },
    "colab": {
      "name": "simple-pandas-pyspark-agg.ipynb",
      "provenance": []
    }
  },
  "nbformat": 4,
  "nbformat_minor": 0
}